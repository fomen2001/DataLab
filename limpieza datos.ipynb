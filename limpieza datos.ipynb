{
 "cells": [
  {
   "cell_type": "code",
   "execution_count": 88,
   "id": "548b7ae1-e91d-429a-99a2-9b07bedaf457",
   "metadata": {},
   "outputs": [],
   "source": [
    "import pandas as pd\n",
    "import csv"
   ]
  },
  {
   "cell_type": "code",
   "execution_count": 90,
   "id": "91aa339b-f4a3-49eb-8b58-88e315489da9",
   "metadata": {},
   "outputs": [],
   "source": [
    "def clean_address(address):\n",
    "    if isinstance(address, str):  # Verificar que la entrada sea un string\n",
    "        address = address.split(',')\n",
    "        if len(address) > 3:\n",
    "            address = address[-3:]\n",
    "        return ','.join(address).strip()  # Reunir las partes y eliminar espacios extra\n",
    "    else:\n",
    "        return None  # Devolver None si el valor es inválido o nulo"
   ]
  },
  {
   "cell_type": "code",
   "execution_count": 92,
   "id": "a7e20f51-aa70-4ba8-b199-cc6fa41caf9a",
   "metadata": {},
   "outputs": [],
   "source": [
    "# URL del archivo CSV de Google Sheets\n",
    "url = 'https://docs.google.com/spreadsheets/d/1i7DKPlxBMu93H0BxTtZZZlOl2eA9dv46rtnTChgEs_o/export?format=csv'"
   ]
  },
  {
   "cell_type": "code",
   "execution_count": 94,
   "id": "52628d5c-fd46-4e71-a617-d3d2a91e0fe8",
   "metadata": {},
   "outputs": [],
   "source": [
    "# Leer el CSV desde la URL\n",
    "df = pd.read_csv(url)"
   ]
  },
  {
   "cell_type": "code",
   "execution_count": 95,
   "id": "0f87633d-639c-422a-aa0f-a47cb154cf8d",
   "metadata": {},
   "outputs": [
    {
     "name": "stdout",
     "output_type": "stream",
     "text": [
      "Nombres de columnas en el archivo:\n",
      "Index(['name', 'address_full', 'phone_number ', 'website', 'regions'], dtype='object')\n"
     ]
    }
   ],
   "source": [
    "# Mostrar nombres de columnas para verificar\n",
    "print(\"Nombres de columnas en el archivo:\")\n",
    "print(df.columns)"
   ]
  },
  {
   "cell_type": "code",
   "execution_count": 96,
   "id": "6916caa3-c0c3-49e3-b5a8-dcca3db979f7",
   "metadata": {},
   "outputs": [],
   "source": [
    "# Aplicar la función a la columna 'address_full'\n",
    "df['Dirección Limpia'] = df['address_full'].apply(clean_address)"
   ]
  },
  {
   "cell_type": "code",
   "execution_count": 97,
   "id": "9c6cd649-a362-415b-a706-8e62a4cb4f29",
   "metadata": {},
   "outputs": [
    {
     "name": "stdout",
     "output_type": "stream",
     "text": [
      "                                        address_full  \\\n",
      "0  place d’hirschberg, 4 All. des Cèdres, 69530 B...   \n",
      "1  A Fleur De Pot, 2 Rue des Poulenards, 07300 To...   \n",
      "2  Jantzen Fleurs, 84 Av. Jean Moulin, 63170 Aubi...   \n",
      "3  Fleurs Et Sens, Le, 12 Bd Maréchal Fayolle, 43...   \n",
      "4  The Flower Garden, 13 Bd Burdeau, 69400 Villef...   \n",
      "\n",
      "                                    Dirección Limpia  \n",
      "0          4 All. des Cèdres, 69530 Brignais, France  \n",
      "1  2 Rue des Poulenards, 07300 Tournon-sur-Rhône,...  \n",
      "2          84 Av. Jean Moulin, 63170 Aubière, France  \n",
      "3  12 Bd Maréchal Fayolle, 43000 Le Puy-en-Velay,...  \n",
      "4  13 Bd Burdeau, 69400 Villefranche-sur-Saône, F...  \n"
     ]
    }
   ],
   "source": [
    "# Mostrar resultados\n",
    "print(df[['address_full', 'Dirección Limpia']].head())"
   ]
  },
  {
   "cell_type": "code",
   "execution_count": 98,
   "id": "f948d848-8d36-444a-bae9-6398dbdc0d64",
   "metadata": {},
   "outputs": [
    {
     "name": "stdout",
     "output_type": "stream",
     "text": [
      "\n",
      "Archivo 'Fleuriste_Auvergne-Rhône-Alpes-N.csv' guardado con éxito.\n"
     ]
    }
   ],
   "source": [
    "# Guardar el archivo CSV con comas como separadores y los valores entre comillas si contienen comas\n",
    "df.to_csv('Fleuriste_Auvergne-Rhône-Alpes-N.csv', index=False, sep=',', quoting=csv.QUOTE_MINIMAL)\n",
    "print(\"\\nArchivo 'Fleuriste_Auvergne-Rhône-Alpes-N.csv' guardado con éxito.\")"
   ]
  },
  {
   "cell_type": "code",
   "execution_count": 99,
   "id": "771cf7f3-0df4-4a83-b75c-012f4c75b3bb",
   "metadata": {},
   "outputs": [
    {
     "name": "stdout",
     "output_type": "stream",
     "text": [
      "C:\\Users\\dhv07\n"
     ]
    }
   ],
   "source": [
    "import os\n",
    "print(os.getcwd())"
   ]
  },
  {
   "cell_type": "code",
   "execution_count": null,
   "id": "99804304-a3cb-4ce6-9419-b2fbcb01b8d9",
   "metadata": {},
   "outputs": [],
   "source": []
  },
  {
   "cell_type": "code",
   "execution_count": null,
   "id": "40fe99fc-c193-48b2-b9d6-4cfa20de7a5e",
   "metadata": {},
   "outputs": [],
   "source": []
  },
  {
   "cell_type": "code",
   "execution_count": null,
   "id": "ef5ac7c8-bea9-4a50-89be-78011d7b8515",
   "metadata": {},
   "outputs": [],
   "source": []
  }
 ],
 "metadata": {
  "kernelspec": {
   "display_name": "Python 3 (ipykernel)",
   "language": "python",
   "name": "python3"
  },
  "language_info": {
   "codemirror_mode": {
    "name": "ipython",
    "version": 3
   },
   "file_extension": ".py",
   "mimetype": "text/x-python",
   "name": "python",
   "nbconvert_exporter": "python",
   "pygments_lexer": "ipython3",
   "version": "3.11.5"
  }
 },
 "nbformat": 4,
 "nbformat_minor": 5
}
